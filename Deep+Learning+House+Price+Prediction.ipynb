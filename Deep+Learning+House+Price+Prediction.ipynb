{
 "cells": [
  {
   "cell_type": "code",
   "execution_count": 1,
   "metadata": {
    "collapsed": true
   },
   "outputs": [],
   "source": [
    "from __future__ import print_function\n",
    "import os\n",
    "import numpy as np\n",
    "import pandas as pd\n",
    "import matplotlib.pyplot as plt"
   ]
  },
  {
   "cell_type": "code",
   "execution_count": 2,
   "metadata": {},
   "outputs": [
    {
     "name": "stderr",
     "output_type": "stream",
     "text": [
      "Using TensorFlow backend.\n",
      "/usr/local/anaconda/lib/python3.6/importlib/_bootstrap.py:205: RuntimeWarning: compiletime version 3.5 of module 'tensorflow.python.framework.fast_tensor_util' does not match runtime version 3.6\n",
      "  return f(*args, **kwds)\n"
     ]
    }
   ],
   "source": [
    "import keras\n",
    "from keras import metrics\n",
    "from keras import regularizers\n",
    "from keras.models import Sequential\n",
    "from keras.layers import Dense, Dropout, Flatten, Activation\n",
    "from keras.layers import Conv2D, MaxPooling2D\n",
    "from keras.optimizers import Adam, RMSprop\n",
    "from keras.callbacks import TensorBoard, EarlyStopping, ModelCheckpoint\n",
    "from keras.utils import plot_model\n",
    "from keras.models import load_model"
   ]
  },
  {
   "cell_type": "markdown",
   "metadata": {},
   "source": [
    "Load data from CSV file and define the label column."
   ]
  },
  {
   "cell_type": "code",
   "execution_count": 3,
   "metadata": {},
   "outputs": [
    {
     "data": {
      "text/html": [
       "<div>\n",
       "<style>\n",
       "    .dataframe thead tr:only-child th {\n",
       "        text-align: right;\n",
       "    }\n",
       "\n",
       "    .dataframe thead th {\n",
       "        text-align: left;\n",
       "    }\n",
       "\n",
       "    .dataframe tbody tr th {\n",
       "        vertical-align: top;\n",
       "    }\n",
       "</style>\n",
       "<table border=\"1\" class=\"dataframe\">\n",
       "  <thead>\n",
       "    <tr style=\"text-align: right;\">\n",
       "      <th></th>\n",
       "      <th>id</th>\n",
       "      <th>date</th>\n",
       "      <th>price</th>\n",
       "      <th>bedrooms</th>\n",
       "      <th>bathrooms</th>\n",
       "      <th>sqft_living</th>\n",
       "      <th>sqft_lot</th>\n",
       "      <th>floors</th>\n",
       "      <th>waterfront</th>\n",
       "      <th>view</th>\n",
       "      <th>...</th>\n",
       "      <th>grade</th>\n",
       "      <th>sqft_above</th>\n",
       "      <th>sqft_basement</th>\n",
       "      <th>yr_built</th>\n",
       "      <th>yr_renovated</th>\n",
       "      <th>zipcode</th>\n",
       "      <th>lat</th>\n",
       "      <th>long</th>\n",
       "      <th>sqft_living15</th>\n",
       "      <th>sqft_lot15</th>\n",
       "    </tr>\n",
       "  </thead>\n",
       "  <tbody>\n",
       "    <tr>\n",
       "      <th>0</th>\n",
       "      <td>7129300520</td>\n",
       "      <td>20141013T000000</td>\n",
       "      <td>221900.0</td>\n",
       "      <td>3</td>\n",
       "      <td>1.00</td>\n",
       "      <td>1180</td>\n",
       "      <td>5650</td>\n",
       "      <td>1.0</td>\n",
       "      <td>0</td>\n",
       "      <td>0</td>\n",
       "      <td>...</td>\n",
       "      <td>7</td>\n",
       "      <td>1180</td>\n",
       "      <td>0</td>\n",
       "      <td>1955</td>\n",
       "      <td>0</td>\n",
       "      <td>98178</td>\n",
       "      <td>47.5112</td>\n",
       "      <td>-122.257</td>\n",
       "      <td>1340</td>\n",
       "      <td>5650</td>\n",
       "    </tr>\n",
       "    <tr>\n",
       "      <th>1</th>\n",
       "      <td>6414100192</td>\n",
       "      <td>20141209T000000</td>\n",
       "      <td>538000.0</td>\n",
       "      <td>3</td>\n",
       "      <td>2.25</td>\n",
       "      <td>2570</td>\n",
       "      <td>7242</td>\n",
       "      <td>2.0</td>\n",
       "      <td>0</td>\n",
       "      <td>0</td>\n",
       "      <td>...</td>\n",
       "      <td>7</td>\n",
       "      <td>2170</td>\n",
       "      <td>400</td>\n",
       "      <td>1951</td>\n",
       "      <td>1991</td>\n",
       "      <td>98125</td>\n",
       "      <td>47.7210</td>\n",
       "      <td>-122.319</td>\n",
       "      <td>1690</td>\n",
       "      <td>7639</td>\n",
       "    </tr>\n",
       "    <tr>\n",
       "      <th>2</th>\n",
       "      <td>5631500400</td>\n",
       "      <td>20150225T000000</td>\n",
       "      <td>180000.0</td>\n",
       "      <td>2</td>\n",
       "      <td>1.00</td>\n",
       "      <td>770</td>\n",
       "      <td>10000</td>\n",
       "      <td>1.0</td>\n",
       "      <td>0</td>\n",
       "      <td>0</td>\n",
       "      <td>...</td>\n",
       "      <td>6</td>\n",
       "      <td>770</td>\n",
       "      <td>0</td>\n",
       "      <td>1933</td>\n",
       "      <td>0</td>\n",
       "      <td>98028</td>\n",
       "      <td>47.7379</td>\n",
       "      <td>-122.233</td>\n",
       "      <td>2720</td>\n",
       "      <td>8062</td>\n",
       "    </tr>\n",
       "    <tr>\n",
       "      <th>3</th>\n",
       "      <td>2487200875</td>\n",
       "      <td>20141209T000000</td>\n",
       "      <td>604000.0</td>\n",
       "      <td>4</td>\n",
       "      <td>3.00</td>\n",
       "      <td>1960</td>\n",
       "      <td>5000</td>\n",
       "      <td>1.0</td>\n",
       "      <td>0</td>\n",
       "      <td>0</td>\n",
       "      <td>...</td>\n",
       "      <td>7</td>\n",
       "      <td>1050</td>\n",
       "      <td>910</td>\n",
       "      <td>1965</td>\n",
       "      <td>0</td>\n",
       "      <td>98136</td>\n",
       "      <td>47.5208</td>\n",
       "      <td>-122.393</td>\n",
       "      <td>1360</td>\n",
       "      <td>5000</td>\n",
       "    </tr>\n",
       "    <tr>\n",
       "      <th>4</th>\n",
       "      <td>1954400510</td>\n",
       "      <td>20150218T000000</td>\n",
       "      <td>510000.0</td>\n",
       "      <td>3</td>\n",
       "      <td>2.00</td>\n",
       "      <td>1680</td>\n",
       "      <td>8080</td>\n",
       "      <td>1.0</td>\n",
       "      <td>0</td>\n",
       "      <td>0</td>\n",
       "      <td>...</td>\n",
       "      <td>8</td>\n",
       "      <td>1680</td>\n",
       "      <td>0</td>\n",
       "      <td>1987</td>\n",
       "      <td>0</td>\n",
       "      <td>98074</td>\n",
       "      <td>47.6168</td>\n",
       "      <td>-122.045</td>\n",
       "      <td>1800</td>\n",
       "      <td>7503</td>\n",
       "    </tr>\n",
       "  </tbody>\n",
       "</table>\n",
       "<p>5 rows × 21 columns</p>\n",
       "</div>"
      ],
      "text/plain": [
       "           id             date     price  bedrooms  bathrooms  sqft_living  \\\n",
       "0  7129300520  20141013T000000  221900.0         3       1.00         1180   \n",
       "1  6414100192  20141209T000000  538000.0         3       2.25         2570   \n",
       "2  5631500400  20150225T000000  180000.0         2       1.00          770   \n",
       "3  2487200875  20141209T000000  604000.0         4       3.00         1960   \n",
       "4  1954400510  20150218T000000  510000.0         3       2.00         1680   \n",
       "\n",
       "   sqft_lot  floors  waterfront  view     ...      grade  sqft_above  \\\n",
       "0      5650     1.0           0     0     ...          7        1180   \n",
       "1      7242     2.0           0     0     ...          7        2170   \n",
       "2     10000     1.0           0     0     ...          6         770   \n",
       "3      5000     1.0           0     0     ...          7        1050   \n",
       "4      8080     1.0           0     0     ...          8        1680   \n",
       "\n",
       "   sqft_basement  yr_built  yr_renovated  zipcode      lat     long  \\\n",
       "0              0      1955             0    98178  47.5112 -122.257   \n",
       "1            400      1951          1991    98125  47.7210 -122.319   \n",
       "2              0      1933             0    98028  47.7379 -122.233   \n",
       "3            910      1965             0    98136  47.5208 -122.393   \n",
       "4              0      1987             0    98074  47.6168 -122.045   \n",
       "\n",
       "   sqft_living15  sqft_lot15  \n",
       "0           1340        5650  \n",
       "1           1690        7639  \n",
       "2           2720        8062  \n",
       "3           1360        5000  \n",
       "4           1800        7503  \n",
       "\n",
       "[5 rows x 21 columns]"
      ]
     },
     "execution_count": 3,
     "metadata": {},
     "output_type": "execute_result"
    }
   ],
   "source": [
    "kc_data_org = pd.read_csv(\"https://raw.githubusercontent.com/jiadai777/predict-housing-price-project/master/kc_house_data.csv\")\n",
    "kc_data_org.head()"
   ]
  },
  {
   "cell_type": "markdown",
   "metadata": {},
   "source": [
    "Transform dates into year, month and day and select columns."
   ]
  },
  {
   "cell_type": "code",
   "execution_count": 4,
   "metadata": {},
   "outputs": [
    {
     "name": "stdout",
     "output_type": "stream",
     "text": [
      "            sale_yr    sale_month      sale_day      bedrooms     bathrooms  \\\n",
      "count  21613.000000  21613.000000  21613.000000  21613.000000  21613.000000   \n",
      "mean    2014.322954      6.574423     15.688197      3.370842      2.114757   \n",
      "std        0.467616      3.115308      8.635063      0.930062      0.770163   \n",
      "min     2014.000000      1.000000      1.000000      0.000000      0.000000   \n",
      "25%     2014.000000      4.000000      8.000000      3.000000      1.750000   \n",
      "50%     2014.000000      6.000000     16.000000      3.000000      2.250000   \n",
      "75%     2015.000000      9.000000     23.000000      4.000000      2.500000   \n",
      "max     2015.000000     12.000000     31.000000     33.000000      8.000000   \n",
      "\n",
      "        sqft_living      sqft_lot        floors     condition         grade  \\\n",
      "count  21613.000000  2.161300e+04  21613.000000  21613.000000  21613.000000   \n",
      "mean    2079.899736  1.510697e+04      1.494309      3.409430      7.656873   \n",
      "std      918.440897  4.142051e+04      0.539989      0.650743      1.175459   \n",
      "min      290.000000  5.200000e+02      1.000000      1.000000      1.000000   \n",
      "25%     1427.000000  5.040000e+03      1.000000      3.000000      7.000000   \n",
      "50%     1910.000000  7.618000e+03      1.500000      3.000000      7.000000   \n",
      "75%     2550.000000  1.068800e+04      2.000000      4.000000      8.000000   \n",
      "max    13540.000000  1.651359e+06      3.500000      5.000000     13.000000   \n",
      "\n",
      "         sqft_above  sqft_basement      yr_built       zipcode           lat  \\\n",
      "count  21613.000000   21613.000000  21613.000000  21613.000000  21613.000000   \n",
      "mean    1788.390691     291.509045   1971.005136  98077.939805     47.560053   \n",
      "std      828.090978     442.575043     29.373411     53.505026      0.138564   \n",
      "min      290.000000       0.000000   1900.000000  98001.000000     47.155900   \n",
      "25%     1190.000000       0.000000   1951.000000  98033.000000     47.471000   \n",
      "50%     1560.000000       0.000000   1975.000000  98065.000000     47.571800   \n",
      "75%     2210.000000     560.000000   1997.000000  98118.000000     47.678000   \n",
      "max     9410.000000    4820.000000   2015.000000  98199.000000     47.777600   \n",
      "\n",
      "               long  sqft_living15     sqft_lot15         price  \n",
      "count  21613.000000   21613.000000   21613.000000  2.161300e+04  \n",
      "mean    -122.213896    1986.552492   12768.455652  5.400881e+05  \n",
      "std        0.140828     685.391304   27304.179631  3.671272e+05  \n",
      "min     -122.519000     399.000000     651.000000  7.500000e+04  \n",
      "25%     -122.328000    1490.000000    5100.000000  3.219500e+05  \n",
      "50%     -122.230000    1840.000000    7620.000000  4.500000e+05  \n",
      "75%     -122.125000    2360.000000   10083.000000  6.450000e+05  \n",
      "max     -121.315000    6210.000000  871200.000000  7.700000e+06  \n"
     ]
    }
   ],
   "source": [
    "kc_data_org['sale_yr'] = pd.to_numeric(kc_data_org.date.str.slice(0, 4))\n",
    "kc_data_org['sale_month'] = pd.to_numeric(kc_data_org.date.str.slice(4, 6))\n",
    "kc_data_org['sale_day'] = pd.to_numeric(kc_data_org.date.str.slice(6, 8))\n",
    "\n",
    "kc_data = pd.DataFrame(kc_data_org, columns=[\n",
    "        'sale_yr','sale_month','sale_day',\n",
    "        'bedrooms','bathrooms','sqft_living','sqft_lot','floors',\n",
    "        'condition','grade','sqft_above','sqft_basement','yr_built',\n",
    "        'zipcode','lat','long','sqft_living15','sqft_lot15','price'])\n",
    "label_col = 'price'\n",
    "\n",
    "print(kc_data.describe())"
   ]
  },
  {
   "cell_type": "markdown",
   "metadata": {},
   "source": [
    "### Split data for training and validation\n",
    "Function to split a range of data frame / array indeces into three sub-ranges."
   ]
  },
  {
   "cell_type": "code",
   "execution_count": 5,
   "metadata": {
    "collapsed": true
   },
   "outputs": [],
   "source": [
    "def train_validate_test_split(df, train_part=.6, validate_part=.2, test_part=.2, seed=None):\n",
    "    np.random.seed(seed)\n",
    "    total_size = train_part + validate_part + test_part\n",
    "    train_percent = train_part / total_size\n",
    "    validate_percent = validate_part / total_size\n",
    "    test_percent = test_part / total_size\n",
    "    perm = np.random.permutation(df.index)\n",
    "    m = len(df)\n",
    "    train_end = int(train_percent * m)\n",
    "    validate_end = int(validate_percent * m) + train_end\n",
    "    train = perm[:train_end]\n",
    "    validate = perm[train_end:validate_end]\n",
    "    test = perm[validate_end:]\n",
    "    return train, validate, test"
   ]
  },
  {
   "cell_type": "markdown",
   "metadata": {},
   "source": [
    "Split index ranges into three parts, however, ignore the third."
   ]
  },
  {
   "cell_type": "code",
   "execution_count": 6,
   "metadata": {
    "collapsed": true
   },
   "outputs": [],
   "source": [
    "train_size, valid_size, test_size = (70, 30, 0)\n",
    "kc_train, kc_valid, kc_test = train_validate_test_split(kc_data, \n",
    "                              train_part=train_size, \n",
    "                              validate_part=valid_size,\n",
    "                              test_part=test_size,\n",
    "                              seed=2017)"
   ]
  },
  {
   "cell_type": "markdown",
   "metadata": {},
   "source": [
    "Extract data for training and validation into x and y vectors."
   ]
  },
  {
   "cell_type": "code",
   "execution_count": 7,
   "metadata": {},
   "outputs": [
    {
     "name": "stdout",
     "output_type": "stream",
     "text": [
      "Size of training set:  15129\n",
      "Size of validation set:  6483\n",
      "Size of test set:  1 (not converted)\n"
     ]
    }
   ],
   "source": [
    "kc_y_train = kc_data.loc[kc_train, [label_col]]\n",
    "kc_x_train = kc_data.loc[kc_train, :].drop(label_col, axis=1)\n",
    "kc_y_valid = kc_data.loc[kc_valid, [label_col]]\n",
    "kc_x_valid = kc_data.loc[kc_valid, :].drop(label_col, axis=1)\n",
    "\n",
    "print('Size of training set: ', len(kc_x_train))\n",
    "print('Size of validation set: ', len(kc_x_valid))\n",
    "print('Size of test set: ', len(kc_test), '(not converted)')"
   ]
  },
  {
   "cell_type": "markdown",
   "metadata": {},
   "source": [
    "### Prepare data for training and validation of the Keras model¶\n",
    "Function to get statistics about a data frame."
   ]
  },
  {
   "cell_type": "code",
   "execution_count": 8,
   "metadata": {
    "collapsed": true
   },
   "outputs": [],
   "source": [
    "def norm_stats(df1, df2):\n",
    "    dfs = df1.append(df2)\n",
    "    minimum = np.min(dfs)\n",
    "    maximum = np.max(dfs)\n",
    "    mu = np.mean(dfs)\n",
    "    sigma = np.std(dfs)\n",
    "    return (minimum, maximum, mu, sigma)"
   ]
  },
  {
   "cell_type": "markdown",
   "metadata": {},
   "source": [
    "Function to Z-normalise the entire data frame - note stats for Z transform passed in."
   ]
  },
  {
   "cell_type": "code",
   "execution_count": 9,
   "metadata": {
    "collapsed": true
   },
   "outputs": [],
   "source": [
    "def z_score(col, stats):\n",
    "    m, M, mu, s = stats\n",
    "    df = pd.DataFrame()\n",
    "    for c in col.columns:\n",
    "        df[c] = (col[c]-mu[c])/s[c]\n",
    "    return df"
   ]
  },
  {
   "cell_type": "markdown",
   "metadata": {},
   "source": [
    "Normalise training and validation predictors using the stats from training data only (to ensure the same transformation applies to both training and validation data), and then convert them into numpy arrays to be used by Keras."
   ]
  },
  {
   "cell_type": "code",
   "execution_count": 10,
   "metadata": {},
   "outputs": [
    {
     "name": "stdout",
     "output_type": "stream",
     "text": [
      "Training shape: (15129, 18)\n",
      "Training samples:  15129\n",
      "Validation samples:  6483\n"
     ]
    }
   ],
   "source": [
    "stats = norm_stats(kc_x_train, kc_x_valid)\n",
    "arr_x_train = np.array(z_score(kc_x_train, stats))\n",
    "arr_y_train = np.array(kc_y_train)\n",
    "arr_x_valid = np.array(z_score(kc_x_valid, stats))\n",
    "arr_y_valid = np.array(kc_y_valid)\n",
    "\n",
    "print('Training shape:', arr_x_train.shape)\n",
    "print('Training samples: ', arr_x_train.shape[0])\n",
    "print('Validation samples: ', arr_x_valid.shape[0])"
   ]
  },
  {
   "cell_type": "markdown",
   "metadata": {},
   "source": [
    "## Create Keras model\n",
    "### Three functions to define alternative Keras models\n",
    "\n",
    "The first is very simple, consisting of three layers and Adam optimizer."
   ]
  },
  {
   "cell_type": "code",
   "execution_count": 11,
   "metadata": {
    "collapsed": true
   },
   "outputs": [],
   "source": [
    "def basic_model_1(x_size, y_size):\n",
    "    t_model = Sequential()\n",
    "    t_model.add(Dense(100, activation=\"tanh\", input_shape=(x_size,)))\n",
    "    t_model.add(Dense(50, activation=\"relu\"))\n",
    "    t_model.add(Dense(y_size))\n",
    "    print(t_model.summary())\n",
    "    t_model.compile(loss='mean_squared_error',\n",
    "        optimizer=Adam(),\n",
    "        metrics=[metrics.mae])\n",
    "    return(t_model)"
   ]
  },
  {
   "cell_type": "markdown",
   "metadata": {},
   "source": [
    "The second with Adam optimizer consists of 4 layers and the first uses 10% dropouts."
   ]
  },
  {
   "cell_type": "code",
   "execution_count": 12,
   "metadata": {
    "collapsed": true
   },
   "outputs": [],
   "source": [
    "def basic_model_2(x_size, y_size):\n",
    "    t_model = Sequential()\n",
    "    t_model.add(Dense(100, activation=\"tanh\", input_shape=(x_size,)))\n",
    "    t_model.add(Dropout(0.1))\n",
    "    t_model.add(Dense(50, activation=\"relu\"))\n",
    "    t_model.add(Dense(20, activation=\"relu\"))\n",
    "    t_model.add(Dense(y_size))\n",
    "    print(t_model.summary())\n",
    "    t_model.compile(loss='mean_squared_error',\n",
    "        optimizer=Adam(),\n",
    "        metrics=[metrics.mae])\n",
    "    return(t_model)"
   ]
  },
  {
   "cell_type": "markdown",
   "metadata": {},
   "source": [
    "The third is the most complex, it extends the previous model with Nadam optimizer, dropouts and L1/L2 regularisers."
   ]
  },
  {
   "cell_type": "code",
   "execution_count": 13,
   "metadata": {
    "collapsed": true
   },
   "outputs": [],
   "source": [
    "def basic_model_3(x_size, y_size):\n",
    "    t_model = Sequential()\n",
    "    t_model.add(Dense(80, activation=\"tanh\", kernel_initializer='normal', input_shape=(x_size,)))\n",
    "    t_model.add(Dropout(0.2))\n",
    "    t_model.add(Dense(120, activation=\"relu\", kernel_initializer='normal', \n",
    "        kernel_regularizer=regularizers.l1(0.01), bias_regularizer=regularizers.l1(0.01)))\n",
    "    t_model.add(Dropout(0.1))\n",
    "    t_model.add(Dense(20, activation=\"relu\", kernel_initializer='normal', \n",
    "        kernel_regularizer=regularizers.l1_l2(0.01), bias_regularizer=regularizers.l1_l2(0.01)))\n",
    "    t_model.add(Dropout(0.1))\n",
    "    t_model.add(Dense(10, activation=\"relu\", kernel_initializer='normal'))\n",
    "    t_model.add(Dropout(0.0))\n",
    "    t_model.add(Dense(y_size))\n",
    "    t_model.compile(\n",
    "        loss='mean_squared_error',\n",
    "        optimizer='nadam',\n",
    "        metrics=[metrics.mae])\n",
    "    return(t_model)"
   ]
  },
  {
   "cell_type": "markdown",
   "metadata": {},
   "source": [
    "Now create the model - use one of the above functions."
   ]
  },
  {
   "cell_type": "code",
   "execution_count": 14,
   "metadata": {},
   "outputs": [
    {
     "name": "stdout",
     "output_type": "stream",
     "text": [
      "_________________________________________________________________\n",
      "Layer (type)                 Output Shape              Param #   \n",
      "=================================================================\n",
      "dense_1 (Dense)              (None, 80)                1520      \n",
      "_________________________________________________________________\n",
      "dropout_1 (Dropout)          (None, 80)                0         \n",
      "_________________________________________________________________\n",
      "dense_2 (Dense)              (None, 120)               9720      \n",
      "_________________________________________________________________\n",
      "dropout_2 (Dropout)          (None, 120)               0         \n",
      "_________________________________________________________________\n",
      "dense_3 (Dense)              (None, 20)                2420      \n",
      "_________________________________________________________________\n",
      "dropout_3 (Dropout)          (None, 20)                0         \n",
      "_________________________________________________________________\n",
      "dense_4 (Dense)              (None, 10)                210       \n",
      "_________________________________________________________________\n",
      "dropout_4 (Dropout)          (None, 10)                0         \n",
      "_________________________________________________________________\n",
      "dense_5 (Dense)              (None, 1)                 11        \n",
      "=================================================================\n",
      "Total params: 13,881\n",
      "Trainable params: 13,881\n",
      "Non-trainable params: 0\n",
      "_________________________________________________________________\n"
     ]
    }
   ],
   "source": [
    "model = basic_model_3(arr_x_train.shape[1], arr_y_train.shape[1])\n",
    "model.summary()"
   ]
  },
  {
   "cell_type": "markdown",
   "metadata": {},
   "source": [
    "### Fit/Train Keras model\n",
    "Define how many epochs of training should be done and what is the batch size."
   ]
  },
  {
   "cell_type": "code",
   "execution_count": 15,
   "metadata": {},
   "outputs": [
    {
     "name": "stdout",
     "output_type": "stream",
     "text": [
      "Epochs:  500\n",
      "Batch size:  128\n"
     ]
    }
   ],
   "source": [
    "epochs = 500\n",
    "batch_size = 128\n",
    "\n",
    "print('Epochs: ', epochs)\n",
    "print('Batch size: ', batch_size)"
   ]
  },
  {
   "cell_type": "markdown",
   "metadata": {},
   "source": [
    "Specify Keras callbacks which allow additional functionality while the model is being fitted.\n",
    "\n",
    "- ModelCheckpoint allows to save the models as they are being built or improved.\n",
    "- TensorBoard interacts with TensorFlow interactive reporting system.\n",
    "- EarlyStopping watches one of the model measurements and stops fitting when no improvement."
   ]
  },
  {
   "cell_type": "code",
   "execution_count": 16,
   "metadata": {
    "collapsed": true
   },
   "outputs": [],
   "source": [
    "keras_callbacks = [\n",
    "    # ModelCheckpoint('/tmp/keras_checkpoints/model.{epoch:02d}-{val_loss:.2f}.hdf5', monitor='val_loss', save_best_only=True, verbose=2)\n",
    "    # ModelCheckpoint('/tmp/keras_checkpoints/model.{epoch:02d}.hdf5', monitor='val_loss', save_best_only=True, verbose=0)\n",
    "    # TensorBoard(log_dir='/tmp/keras_logs/model_3', histogram_freq=0, write_graph=True, write_images=True, embeddings_freq=0, embeddings_layer_names=None, embeddings_metadata=None),\n",
    "    EarlyStopping(monitor='val_mean_absolute_error', patience=20, verbose=0)\n",
    "]"
   ]
  },
  {
   "cell_type": "markdown",
   "metadata": {},
   "source": [
    "Fit the model and record the history of training and validation.\n",
    "As we specified EarlyStopping with patience=20, with luck the training will stop in less than 200 epochs."
   ]
  },
  {
   "cell_type": "code",
   "execution_count": 17,
   "metadata": {
    "collapsed": true
   },
   "outputs": [],
   "source": [
    "history = model.fit(arr_x_train, arr_y_train,\n",
    "    batch_size=batch_size,\n",
    "    epochs=epochs,\n",
    "    shuffle=True,\n",
    "    verbose=0, # Change it to 2, if wished to observe execution\n",
    "    validation_data=(arr_x_valid, arr_y_valid),\n",
    "    callbacks=keras_callbacks)"
   ]
  },
  {
   "cell_type": "markdown",
   "metadata": {},
   "source": [
    "### Evaluate and report performance of the trained model"
   ]
  },
  {
   "cell_type": "code",
   "execution_count": 18,
   "metadata": {},
   "outputs": [
    {
     "name": "stdout",
     "output_type": "stream",
     "text": [
      "Train MAE:  70227.786 , Train Loss:  14613224190.7\n",
      "Val MAE:  79449.9697 , Val Loss:  23584976267.4\n"
     ]
    }
   ],
   "source": [
    "train_score = model.evaluate(arr_x_train, arr_y_train, verbose=0)\n",
    "valid_score = model.evaluate(arr_x_valid, arr_y_valid, verbose=0)\n",
    "\n",
    "print('Train MAE: ', round(train_score[1], 4), ', Train Loss: ', round(train_score[0], 4)) \n",
    "print('Val MAE: ', round(valid_score[1], 4), ', Val Loss: ', round(valid_score[0], 4))"
   ]
  },
  {
   "cell_type": "markdown",
   "metadata": {},
   "source": [
    "This function allows plotting of the training history"
   ]
  },
  {
   "cell_type": "code",
   "execution_count": 19,
   "metadata": {
    "collapsed": true
   },
   "outputs": [],
   "source": [
    "def plot_hist(h, xsize=6, ysize=10):\n",
    "    # Prepare plotting\n",
    "    fig_size = plt.rcParams[\"figure.figsize\"]\n",
    "    plt.rcParams[\"figure.figsize\"] = [xsize, ysize]\n",
    "    fig, axes = plt.subplots(nrows=4, ncols=4, sharex=True)\n",
    "    \n",
    "    # summarize history for MAE\n",
    "    plt.subplot(211)\n",
    "    plt.plot(h['mean_absolute_error'])\n",
    "    plt.plot(h['val_mean_absolute_error'])\n",
    "    plt.title('Training vs Validation MAE')\n",
    "    plt.ylabel('MAE')\n",
    "    plt.xlabel('Epoch')\n",
    "    plt.legend(['Train', 'Validation'], loc='upper left')\n",
    "    \n",
    "    # summarize history for loss\n",
    "    plt.subplot(212)\n",
    "    plt.plot(h['loss'])\n",
    "    plt.plot(h['val_loss'])\n",
    "    plt.title('Training vs Validation Loss')\n",
    "    plt.ylabel('Loss')\n",
    "    plt.xlabel('Epoch')\n",
    "    plt.legend(['Train', 'Validation'], loc='upper left')\n",
    "    \n",
    "    # Plot it all in IPython (non-interactive)\n",
    "    plt.draw()\n",
    "    plt.show()\n",
    "\n",
    "    return"
   ]
  },
  {
   "cell_type": "markdown",
   "metadata": {},
   "source": [
    "Now plot the training history, i.e. the Mean Absolute Error and Loss (Mean Squared Error), which were both defined at the time of model compilation."
   ]
  },
  {
   "cell_type": "code",
   "execution_count": 20,
   "metadata": {},
   "outputs": [
    {
     "data": {
      "image/png": "[encoded data removed]",
      "text/plain": [
       "<Figure size 576x864 with 2 Axes>"
      ]
     },
     "metadata": {},
     "output_type": "display_data"
    }
   ],
   "source": [
    "plot_hist(history.history, xsize=8, ysize=12)"
   ]
  },
  {
   "cell_type": "code",
   "execution_count": null,
   "metadata": {
    "collapsed": true
   },
   "outputs": [],
   "source": []
  }
 ],
 "metadata": {
  "kernelspec": {
   "display_name": "Python 3",
   "language": "python",
   "name": "python3"
  },
  "language_info": {
   "codemirror_mode": {
    "name": "ipython",
    "version": 3
   },
   "file_extension": ".py",
   "mimetype": "text/x-python",
   "name": "python",
   "nbconvert_exporter": "python",
   "pygments_lexer": "ipython3",
   "version": "3.6.2"
  }
 },
 "nbformat": 4,
 "nbformat_minor": 2
}
